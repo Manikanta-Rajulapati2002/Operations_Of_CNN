{
 "cells": [
  {
   "cell_type": "markdown",
   "id": "5f36ecbb-edc3-42fb-971a-4321dfb63f0e",
   "metadata": {},
   "source": [
    "# Convolution Operations with Different Parameters"
   ]
  },
  {
   "cell_type": "code",
   "execution_count": 2,
   "id": "d7cd978c-ef19-42a8-9a6c-ea7b7f9c22fd",
   "metadata": {},
   "outputs": [],
   "source": [
    "# importing the required librarires\n",
    "import numpy as np\n",
    "import tensorflow as tf"
   ]
  },
  {
   "cell_type": "code",
   "execution_count": 12,
   "id": "7fef4409-9fab-4963-9e74-b64fd836fec5",
   "metadata": {},
   "outputs": [],
   "source": [
    "# Define the 5×5 input matrix\n",
    "input_matrix = np.array([[1, 2, 3, 4, 5],\n",
    "                         [6, 7, 8, 9, 10],\n",
    "                         [11, 12, 13, 14, 15],\n",
    "                         [16, 17, 18, 19, 20],\n",
    "                         [21, 22, 23, 24, 25]], dtype=np.float32)\n"
   ]
  },
  {
   "cell_type": "code",
   "execution_count": 14,
   "id": "b37bafde-e96a-497a-bdfa-7b3c3410495d",
   "metadata": {},
   "outputs": [],
   "source": [
    "# Define the 3×3 kernel\n",
    "kernel = np.array([[1, 0, -1],\n",
    "                   [1, 0, -1],\n",
    "                   [1, 0, -1]], dtype=np.float32)\n"
   ]
  },
  {
   "cell_type": "code",
   "execution_count": 16,
   "id": "8812cba8-caee-490f-b611-a57a2ec7faf7",
   "metadata": {},
   "outputs": [],
   "source": [
    "# Function to perform convolution operation\n",
    "def convolve2d(image, kernel, stride=1, padding='VALID'):\n",
    "    image_h, image_w = image.shape\n",
    "    kernel_h, kernel_w = kernel.shape\n",
    "    \n",
    "    if padding == 'SAME':\n",
    "        pad_h = (kernel_h - 1) // 2\n",
    "        pad_w = (kernel_w - 1) // 2\n",
    "        padded_image = np.pad(image, ((pad_h, pad_h), (pad_w, pad_w)), mode='constant', constant_values=0)\n",
    "    else:  # 'VALID' padding\n",
    "        padded_image = image\n",
    "\n",
    "    padded_h, padded_w = padded_image.shape\n",
    "    output_h = (padded_h - kernel_h) // stride + 1\n",
    "    output_w = (padded_w - kernel_w) // stride + 1\n",
    "    output = np.zeros((output_h, output_w), dtype=np.float32)\n",
    "\n",
    "    for i in range(0, output_h * stride, stride):\n",
    "        for j in range(0, output_w * stride, stride):\n",
    "            region = padded_image[i:i + kernel_h, j:j + kernel_w]\n",
    "            if region.shape == kernel.shape:  # Ensure kernel fits\n",
    "                output[i // stride, j // stride] = np.sum(region * kernel)\n",
    "    \n",
    "    return output"
   ]
  },
  {
   "cell_type": "code",
   "execution_count": 18,
   "id": "990af4e0-148a-4b05-8f9d-3a9419560dcf",
   "metadata": {},
   "outputs": [],
   "source": [
    "# Perform convolution operations with different strides and paddings\n",
    "conv_valid_stride1 = convolve2d(input_matrix, kernel, stride=1, padding='VALID')\n",
    "conv_same_stride1 = convolve2d(input_matrix, kernel, stride=1, padding='SAME')\n",
    "conv_valid_stride2 = convolve2d(input_matrix, kernel, stride=2, padding='VALID')\n",
    "conv_same_stride2 = convolve2d(input_matrix, kernel, stride=2, padding='SAME')"
   ]
  },
  {
   "cell_type": "code",
   "execution_count": 20,
   "id": "c7fbce5a-f576-4111-9575-28b7503f7e01",
   "metadata": {},
   "outputs": [
    {
     "name": "stdout",
     "output_type": "stream",
     "text": [
      "Stride = 1, Padding = 'VALID'\n",
      "[[-6. -6. -6.]\n",
      " [-6. -6. -6.]\n",
      " [-6. -6. -6.]] \n",
      "\n",
      "Stride = 1, Padding = 'SAME'\n",
      "[[ -9.  -4.  -4.  -4.  13.]\n",
      " [-21.  -6.  -6.  -6.  27.]\n",
      " [-36.  -6.  -6.  -6.  42.]\n",
      " [-51.  -6.  -6.  -6.  57.]\n",
      " [-39.  -4.  -4.  -4.  43.]] \n",
      "\n",
      "Stride = 2, Padding = 'VALID'\n",
      "[[-6. -6.]\n",
      " [-6. -6.]] \n",
      "\n",
      "Stride = 2, Padding = 'SAME'\n",
      "[[ -9.  -4.  13.]\n",
      " [-36.  -6.  42.]\n",
      " [-39.  -4.  43.]] \n",
      "\n"
     ]
    }
   ],
   "source": [
    "# Print output feature maps\n",
    "print(\"Stride = 1, Padding = 'VALID'\")\n",
    "print(conv_valid_stride1, \"\\n\")\n",
    "\n",
    "print(\"Stride = 1, Padding = 'SAME'\")\n",
    "print(conv_same_stride1, \"\\n\")\n",
    "\n",
    "print(\"Stride = 2, Padding = 'VALID'\")\n",
    "print(conv_valid_stride2, \"\\n\")\n",
    "\n",
    "print(\"Stride = 2, Padding = 'SAME'\")\n",
    "print(conv_same_stride2, \"\\n\")"
   ]
  },
  {
   "cell_type": "code",
   "execution_count": null,
   "id": "c4cf404c-2c7b-47f2-b68e-bde18a23e824",
   "metadata": {},
   "outputs": [],
   "source": []
  }
 ],
 "metadata": {
  "kernelspec": {
   "display_name": "Python [conda env:sunny]",
   "language": "python",
   "name": "conda-env-sunny-py"
  },
  "language_info": {
   "codemirror_mode": {
    "name": "ipython",
    "version": 3
   },
   "file_extension": ".py",
   "mimetype": "text/x-python",
   "name": "python",
   "nbconvert_exporter": "python",
   "pygments_lexer": "ipython3",
   "version": "3.12.8"
  }
 },
 "nbformat": 4,
 "nbformat_minor": 5
}
